{
 "cells": [
  {
   "cell_type": "code",
   "execution_count": null,
   "id": "bfc8dda5",
   "metadata": {},
   "outputs": [],
   "source": [
    "import pandas as pd\n",
    "import numpy as np\n",
    "import matplotlib.pyplot as plt\n",
    "import seaborn as sns\n",
    "from sklearn.model_selection import train_test_split\n",
    "from sklearn.linear_model import LinearRegression, Ridge, Lasso\n",
    "from sklearn.tree import DecisionTreeRegressor\n",
    "from sklearn.ensemble import RandomForestRegressor, GradientBoostingRegressor\n",
    "from xgboost import XGBRegressor\n",
    "from lightgbm import LGBMRegressor\n",
    "from catboost import CatBoostRegressor\n",
    "from sklearn.metrics import r2_score,mean_absolute_error,confusion_matrix,mean_squared_error\n",
    "from sklearn.linear_model import LinearRegression\n",
    "\n",
    "df_king_house_data = pd.read_csv(\"../dataset/king_ country_ houses_aa.csv\")\n",
    "df_king_house_data"
   ]
  },
  {
   "cell_type": "code",
   "execution_count": null,
   "id": "88a7cb76",
   "metadata": {},
   "outputs": [],
   "source": [
    "df_king_house_data.info()"
   ]
  },
  {
   "cell_type": "code",
   "execution_count": null,
   "id": "06c6dfdf",
   "metadata": {},
   "outputs": [],
   "source": [
    "df_king_house_data.isnull().sum()"
   ]
  },
  {
   "cell_type": "code",
   "execution_count": null,
   "id": "5c354f47",
   "metadata": {},
   "outputs": [],
   "source": [
    "df_king_house_data.dtypes"
   ]
  },
  {
   "cell_type": "code",
   "execution_count": null,
   "id": "061e2578",
   "metadata": {},
   "outputs": [],
   "source": [
    "df_king_house_data[\"id\"].duplicated().sum()"
   ]
  },
  {
   "cell_type": "code",
   "execution_count": null,
   "id": "8de0f7a2",
   "metadata": {},
   "outputs": [],
   "source": [
    "dup_ids = df_king_house_data[df_king_house_data[\"id\"].duplicated()][\"id\"]\n",
    "\n",
    "print(\"Duplicated IDs:\")\n",
    "print(dup_ids.unique())   # just the unique duplicate ids\n"
   ]
  },
  {
   "cell_type": "code",
   "execution_count": null,
   "id": "36aa82c6",
   "metadata": {},
   "outputs": [],
   "source": [
    "dup_rows = df_king_house_data[df_king_house_data[\"id\"].duplicated(keep= False)]\n",
    "dup_rows"
   ]
  },
  {
   "cell_type": "code",
   "execution_count": null,
   "id": "b955107b",
   "metadata": {},
   "outputs": [],
   "source": [
    "df_king_house_data[\"date\"] = pd.to_datetime(df_king_house_data[\"date\"])\n",
    "df_king_house_data[\"date\"]"
   ]
  },
  {
   "cell_type": "code",
   "execution_count": null,
   "id": "65c3b1d1",
   "metadata": {},
   "outputs": [],
   "source": [
    "df_clean = df_king_house_data.sort_values(\"date\").drop_duplicates(subset=\"id\", keep=\"last\")\n",
    "df_clean"
   ]
  },
  {
   "cell_type": "code",
   "execution_count": null,
   "id": "15f29de5",
   "metadata": {},
   "outputs": [],
   "source": [
    "corr_all = df_king_house_data.drop(columns=[\"id\",\"date\"]).corr()\n",
    "mask = np.triu(np.ones_like(corr_all, dtype=bool))\n",
    "plt.figure(figsize=(12,10))\n",
    "sns.heatmap(corr_all, mask=mask, annot=True, fmt=\".2f\", cmap='coolwarm', center=0)\n",
    "plt.title('Feature correlations')\n",
    "plt.show()"
   ]
  },
  {
   "cell_type": "code",
   "execution_count": null,
   "id": "ef0154ec",
   "metadata": {},
   "outputs": [],
   "source": [
    "plt.figure(figsize=(6,4))\n",
    "sns.histplot(df_clean['price'])\n",
    "plt.title(\"House Price Distribution\")\n",
    "plt.xlabel(\"Price\")\n",
    "plt.ylabel(\"Count\")\n",
    "plt.show()\n",
    "\n",
    "\n",
    "plt.figure(figsize=(6,4))\n",
    "sns.histplot(df_clean['price'], log_scale=True)\n",
    "plt.title(\"House Price Distribution (log scale)\")\n",
    "plt.xlabel(\"Price (log)\")\n",
    "plt.ylabel(\"Count\")\n",
    "plt.show()"
   ]
  },
  {
   "cell_type": "markdown",
   "id": "741975df",
   "metadata": {},
   "source": [
    "Linear regressor"
   ]
  },
  {
   "cell_type": "code",
   "execution_count": null,
   "id": "ca294d65",
   "metadata": {},
   "outputs": [],
   "source": [
    "X_original = df_king_house_data.drop(columns=[\"price\",\"id\",\"date\"])\n",
    "y_original = df_king_house_data[\"price\"]"
   ]
  },
  {
   "cell_type": "code",
   "execution_count": null,
   "id": "3a41eb49",
   "metadata": {},
   "outputs": [],
   "source": [
    "X_clean = df_clean.drop(columns=[\"price\",\"id\",\"date\"])\n",
    "y_clean = df_clean[\"price\"]"
   ]
  },
  {
   "cell_type": "code",
   "execution_count": null,
   "id": "98dc3cf0",
   "metadata": {},
   "outputs": [],
   "source": [
    "X_train_lr , X_test_lr, y_train_lr ,y_test_lr = train_test_split(X_original,y_original,test_size=0.2,random_state=42)\n"
   ]
  },
  {
   "cell_type": "code",
   "execution_count": null,
   "id": "fa9a892b",
   "metadata": {},
   "outputs": [],
   "source": [
    "linear_model = LinearRegression()\n",
    "linear_model.fit(X_train_lr,y_train_lr)\n",
    "y_test_pred_lr = linear_model.predict(X_test_lr)\n",
    "y_train_pred_lr = linear_model.predict(X_train_lr)"
   ]
  },
  {
   "cell_type": "code",
   "execution_count": null,
   "id": "5322756c",
   "metadata": {},
   "outputs": [],
   "source": [
    "print(\"Linear Regression model test R2 score \\n\",r2_score(y_test_pred_lr,y_test_lr),\"\\n\"\n",
    "      \"Linear Regression model train R2 score \\n\",r2_score(y_train_pred_lr,y_train_lr))\n",
    "\n"
   ]
  },
  {
   "cell_type": "code",
   "execution_count": null,
   "id": "c30970ec",
   "metadata": {},
   "outputs": [],
   "source": [
    "X_train_cl_lr , X_test_cl_lr, y_train_cl_lr ,y_test_cl_lr = train_test_split(X_clean,y_clean,test_size=0.2,random_state=42)\n"
   ]
  },
  {
   "cell_type": "code",
   "execution_count": null,
   "id": "09f654f2",
   "metadata": {},
   "outputs": [],
   "source": [
    "linear_model = LinearRegression()\n",
    "linear_model.fit(X_train_cl_lr,y_train_cl_lr)\n",
    "y_test_pred_cl_lr = linear_model.predict(X_test_cl_lr)\n",
    "y_train_pred_cl_lr = linear_model.predict(X_train_cl_lr)"
   ]
  },
  {
   "cell_type": "code",
   "execution_count": null,
   "id": "877e303d",
   "metadata": {},
   "outputs": [],
   "source": [
    "print(\"Linear Regression model test R2 score (cleandf)\\n\",r2_score(y_test_pred_cl_lr,y_test_cl_lr),\"\\n\"\n",
    "      \"Linear Regression model train R2 score (cleandf)\\n\",r2_score(y_train_pred_cl_lr,y_train_cl_lr))"
   ]
  },
  {
   "cell_type": "markdown",
   "id": "8412e867",
   "metadata": {},
   "source": [
    "looping all the models"
   ]
  },
  {
   "cell_type": "code",
   "execution_count": null,
   "id": "5479989f",
   "metadata": {},
   "outputs": [],
   "source": [
    "X_train, X_test, y_train, y_test = train_test_split(X_original, y_original, test_size=0.2, random_state=42)\n",
    "\n",
    "models = {\"Linear Regression\": LinearRegression(),\"Ridge\": Ridge(),\"Lasso\": Lasso(),\n",
    "    \"Decision Tree\": DecisionTreeRegressor(max_depth=10, random_state=42),\"Random Forest\": RandomForestRegressor(n_estimators=120, random_state=42),\n",
    "    \"Gradient Boosting\": GradientBoostingRegressor(random_state=42),\"XGBoost\": XGBRegressor(objective=\"reg:squarederror\", random_state=42),\n",
    "    \"LightGBM\": LGBMRegressor(random_state=42),\"CatBoost\": CatBoostRegressor(verbose=0, random_state=42)}\n",
    "\n",
    "results = []\n",
    "\n",
    "for name, model in models.items():\n",
    "    model.fit(X_train, y_train)\n",
    "    y_pred = model.predict(X_test)\n",
    "    y_train_pred = model.predict(X_train)\n",
    "    \n",
    "    r2_test = r2_score(y_test, y_pred)\n",
    "    r2_train = r2_score(y_train_pred, y_train)\n",
    "    rmse = np.sqrt(mean_squared_error(y_test, y_pred))\n",
    "    \n",
    "    results.append({\"Model\": name, \"R²_test\": r2_test,\"R²_train\":r2_train , \"RMSE\": rmse})\n",
    "\n",
    "results_df = pd.DataFrame(results).sort_values(by=\"R²_test\", ascending=False)\n",
    "\n",
    "print(results_df)\n",
    "plt.figure(figsize=(10,6))\n",
    "plt.barh(results_df[\"Model\"], results_df[\"R²_test\"], color=\"skyblue\")\n",
    "plt.xlabel(\"R² Score\")\n",
    "plt.title(\"Model Comparison on King County House Prices\")\n",
    "plt.gca().invert_yaxis()\n",
    "plt.show()\n"
   ]
  },
  {
   "cell_type": "code",
   "execution_count": null,
   "id": "5ed69b7d",
   "metadata": {},
   "outputs": [],
   "source": [
    "#for clean df\n",
    "X_clean = df_clean.drop(columns=[\"price\", \"id\", \"date\"]) \n",
    "y_clean = df_clean[\"price\"]\n",
    "\n",
    "X_train, X_test, y_train, y_test = train_test_split(\n",
    "    X_clean, y_clean, test_size=0.2, random_state=42\n",
    ")\n",
    "\n",
    "models = {\"Linear Regression\": LinearRegression(),\"Ridge\": Ridge(),\"Lasso\": Lasso(),\n",
    "    \"Decision Tree\": DecisionTreeRegressor(max_depth=10, random_state=42),\"Random Forest\": RandomForestRegressor(n_estimators=100, random_state=42),\n",
    "    \"Gradient Boosting\": GradientBoostingRegressor(random_state=42),\"XGBoost\": XGBRegressor(objective=\"reg:squarederror\", random_state=42),\n",
    "    \"LightGBM\": LGBMRegressor(verbose = 0,random_state=42),\"CatBoost\": CatBoostRegressor(verbose=0, random_state=42)}\n",
    "\n",
    "results = []\n",
    "\n",
    "for name, model in models.items():\n",
    "    model.fit(X_train, y_train)\n",
    "    y_pred = model.predict(X_test)\n",
    "    \n",
    "    r2 = r2_score(y_test, y_pred)\n",
    "    rmse = np.sqrt(mean_squared_error(y_test, y_pred))\n",
    "    \n",
    "    results.append({\"Model\": name, \"R²\": r2, \"RMSE\": rmse})\n",
    "\n",
    "results_df = pd.DataFrame(results).sort_values(by=\"R²\", ascending=False)\n",
    "\n",
    "print(results_df)\n",
    "plt.figure(figsize=(10,6))\n",
    "plt.barh(results_df[\"Model\"], results_df[\"R²\"], color=\"skyblue\")\n",
    "plt.xlabel(\"R² Score\")\n",
    "plt.title(\"Model Comparison on King County House Prices\")\n",
    "plt.gca().invert_yaxis()\n",
    "plt.show()\n"
   ]
  },
  {
   "cell_type": "code",
   "execution_count": null,
   "id": "9da7d5ba",
   "metadata": {},
   "outputs": [],
   "source": [
    "df_king_house_data[\"month\"] = df_king_house_data[\"date\"].dt.month\n",
    "df_king_house_data[\"month\"]"
   ]
  },
  {
   "cell_type": "code",
   "execution_count": null,
   "id": "23a71f8a",
   "metadata": {},
   "outputs": [],
   "source": [
    "df_king_house_data[\"month\"].value_counts()"
   ]
  },
  {
   "cell_type": "code",
   "execution_count": null,
   "id": "4494c046",
   "metadata": {},
   "outputs": [],
   "source": [
    "model = XGBRegressor(objective=\"reg:squarederror\", random_state=42)\n",
    "X_data = df_king_house_data.drop(columns=[\"price\", \"id\", \"date\"])\n",
    "y_data = df_king_house_data[\"price\"]\n",
    "X_train_xgb , X_test_xgb ,y_train_xgb,y_test_xgb = train_test_split(X_data,y_data,test_size=0.2,random_state=42)\n",
    "model.fit(X_train_xgb, y_train_xgb)"
   ]
  },
  {
   "cell_type": "code",
   "execution_count": null,
   "id": "9a1239ac",
   "metadata": {},
   "outputs": [],
   "source": [
    "y_xgb_test_pred = model.predict(X_test_xgb)\n",
    "print(r2_score(y_xgb_test_pred,y_test_xgb))"
   ]
  },
  {
   "cell_type": "code",
   "execution_count": null,
   "id": "2a2df5c3",
   "metadata": {},
   "outputs": [],
   "source": [
    "y_xgb_train_pred = model.predict(X_train_xgb)\n",
    "print(r2_score(y_xgb_train_pred,y_train_xgb))"
   ]
  },
  {
   "cell_type": "code",
   "execution_count": null,
   "id": "80267772",
   "metadata": {},
   "outputs": [],
   "source": [
    "from sklearn.ensemble import AdaBoostRegressor\n",
    "X_data = df_king_house_data.drop(columns=[\"price\", \"id\", \"date\"])\n",
    "y_data = df_king_house_data[\"price\"]\n",
    "X_train_ada , X_test_ada ,y_train_ada,y_test_ada = train_test_split(X_data,y_data,test_size=0.2,random_state=42)"
   ]
  },
  {
   "cell_type": "code",
   "execution_count": null,
   "id": "595aabd8",
   "metadata": {},
   "outputs": [],
   "source": [
    "X_data.columns"
   ]
  },
  {
   "cell_type": "code",
   "execution_count": null,
   "id": "01300260",
   "metadata": {},
   "outputs": [],
   "source": [
    "abc = AdaBoostRegressor(n_estimators=250,learning_rate=0.05)\n",
    "model = abc.fit(X_train_ada, y_train_ada)"
   ]
  },
  {
   "cell_type": "code",
   "execution_count": null,
   "id": "2abcb1ca",
   "metadata": {},
   "outputs": [],
   "source": [
    "y_test_pred_ada_data = model.predict(X_test_ada)\n",
    "y_train_pred_ada_data= model.predict(X_train_ada)"
   ]
  },
  {
   "cell_type": "code",
   "execution_count": null,
   "id": "a0658ac6",
   "metadata": {},
   "outputs": [],
   "source": [
    "print(\"R2 ADAregressor Train:\", r2_score(y_train_ada, y_train_pred_ada_data))\n",
    "print(\"R2 ADAregressor Test:\", r2_score(y_test_ada, y_test_pred_ada_data))"
   ]
  },
  {
   "cell_type": "code",
   "execution_count": null,
   "id": "24a98c1a",
   "metadata": {},
   "outputs": [],
   "source": [
    "feature_importances = pd.DataFrame({'Feature': X_data.columns,'Importance': model.feature_importances_}).sort_values(by='Importance', ascending=False)\n",
    "\n",
    "print(feature_importances)"
   ]
  },
  {
   "cell_type": "code",
   "execution_count": null,
   "id": "d088529d",
   "metadata": {},
   "outputs": [],
   "source": [
    "df_groupby = df_king_house_data.groupby(\"grade\")[\"price\"].sum()"
   ]
  },
  {
   "cell_type": "code",
   "execution_count": null,
   "id": "83f11154",
   "metadata": {},
   "outputs": [],
   "source": [
    "df_groupby"
   ]
  },
  {
   "cell_type": "code",
   "execution_count": null,
   "id": "857262d7",
   "metadata": {},
   "outputs": [],
   "source": [
    "df_king_house_data"
   ]
  },
  {
   "cell_type": "code",
   "execution_count": null,
   "id": "1d927ee0",
   "metadata": {},
   "outputs": [],
   "source": [
    "x_final = df_king_house_data.drop(columns=[\"price\",\"date\",\"id\"])\n",
    "y_final = df_king_house_data[\"price\"]\n",
    "X_train_final , X_test_final ,y_train_final,y_test_final = train_test_split(x_final,y_final,test_size=0.2,random_state=42)"
   ]
  },
  {
   "cell_type": "code",
   "execution_count": null,
   "id": "bc4593e9",
   "metadata": {},
   "outputs": [],
   "source": [
    "xgb_final = XGBRegressor(objective=\"reg:squarederror\", random_state=4)\n",
    "xgb_final.fit(x_final,y_final)\n",
    "y_final_test_pred_xgb = xgb_final.predict(X_test_final)\n",
    "print(r2_score(y_final_test_pred_xgb,y_test_final))"
   ]
  },
  {
   "cell_type": "code",
   "execution_count": null,
   "id": "f03c5ea3",
   "metadata": {},
   "outputs": [],
   "source": [
    "feature_importances = pd.DataFrame({'Feature': x_final.columns,'Importance': xgb_final.feature_importances_}).sort_values(by='Importance', ascending=False)\n",
    "\n",
    "print(feature_importances)"
   ]
  },
  {
   "cell_type": "code",
   "execution_count": null,
   "id": "aaf86c13",
   "metadata": {},
   "outputs": [],
   "source": [
    "X_train_final, X_test_final, y_train_final, y_test_final = train_test_split(\n",
    "    x_final, y_final, test_size=0.1, random_state=42\n",
    ")\n",
    "\n",
    "models = {\"Linear Regression\": LinearRegression(),\"Ridge\": Ridge(),\"Lasso\": Lasso(),\n",
    "    \"Decision Tree\": DecisionTreeRegressor(max_depth=10, random_state=42),\"Random Forest\": RandomForestRegressor(n_estimators=100, random_state=42),\n",
    "    \"Gradient Boosting\": GradientBoostingRegressor(random_state=42),\"XGBoost\": XGBRegressor(objective=\"reg:squarederror\", random_state=42),\n",
    "    \"LightGBM\": LGBMRegressor(verbose = 0,random_state=42),\"CatBoost\": CatBoostRegressor(verbose=0, random_state=42)}\n",
    "\n",
    "results_final = []\n",
    "\n",
    "for name, model in models.items():\n",
    "    model.fit(X_train_final, y_train_final)\n",
    "    y_pred_test_final = model.predict(X_test_final)\n",
    "    y_pred_train_final = model.predict(X_train_final)\n",
    "    \n",
    "    r2_test = r2_score(y_test_final, y_pred_test_final)\n",
    "    r2_train = r2_score(y_pred_train_final, y_train_final)\n",
    "    rmse = np.sqrt(mean_squared_error(y_test_final, y_pred_test_final))\n",
    "    \n",
    "    results_final.append({\"Model\": name, \"R²_test\": r2_test, \"R²_train\": r2_train,\"RMSE\": rmse})\n",
    "\n",
    "results_df_final = pd.DataFrame(results_final).sort_values(by=\"R²_test\", ascending=False)\n",
    "\n",
    "print(results_df_final)\n",
    "plt.figure(figsize=(10,6))\n",
    "plt.barh(results_df[\"Model\"], results_df[\"R²_test\"], color=\"skyblue\")\n",
    "plt.xlabel(\"R² Score\")\n",
    "plt.title(\"Model Comparison on King County House Prices\")\n",
    "plt.gca().invert_yaxis()\n",
    "plt.show()"
   ]
  },
  {
   "cell_type": "code",
   "execution_count": null,
   "id": "adbf06de",
   "metadata": {},
   "outputs": [],
   "source": [
    "cat = CatBoostRegressor(verbose=0,random_state=42)\n",
    "cat.fit(X_train_final,y_train_final)\n"
   ]
  },
  {
   "cell_type": "code",
   "execution_count": null,
   "id": "9533ba94",
   "metadata": {},
   "outputs": [],
   "source": [
    "feature_importances = pd.DataFrame({'Feature': x_final.columns,'Importance': cat.feature_importances_}).sort_values(by='Importance', ascending=False)\n",
    "\n",
    "print(feature_importances)"
   ]
  }
 ],
 "metadata": {
  "kernelspec": {
   "display_name": "Python 3",
   "language": "python",
   "name": "python3"
  },
  "language_info": {
   "codemirror_mode": {
    "name": "ipython",
    "version": 3
   },
   "file_extension": ".py",
   "mimetype": "text/x-python",
   "name": "python",
   "nbconvert_exporter": "python",
   "pygments_lexer": "ipython3",
   "version": "3.12.0"
  }
 },
 "nbformat": 4,
 "nbformat_minor": 5
}
